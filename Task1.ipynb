{
 "cells": [
  {
   "cell_type": "markdown",
   "id": "356d2fa7",
   "metadata": {},
   "source": [
    "## Задача 1\n",
    "Нужно написать две программы: Первая генерирует бинарный файл (min 2Гб), состоящий из случайных 32-рязрядных беззнаковых целых чисел (big endian). Вторая считает сумму этих чисел (с применением длинной арифметики), находит минимальное и максимальное число.\n",
    "\n",
    "Реализуйте две версии:\n",
    "1. Простое последовательное чтение \n",
    "2. Многопоточная + memory-mapped files. \n",
    "\n",
    "Сравните время работы."
   ]
  },
  {
   "cell_type": "code",
   "execution_count": 2,
   "id": "255617c7",
   "metadata": {
    "scrolled": false
   },
   "outputs": [],
   "source": [
    "import numpy as np\n",
    "import time\n",
    "import threading"
   ]
  },
  {
   "cell_type": "code",
   "execution_count": 3,
   "id": "da286ac7",
   "metadata": {},
   "outputs": [
    {
     "data": {
      "text/plain": [
       "536870912"
      ]
     },
     "execution_count": 3,
     "metadata": {},
     "output_type": "execute_result"
    }
   ],
   "source": [
    "N = 2 ** (1 + 10 + 10 + 10 + 3 - 5)\n",
    "N"
   ]
  },
  {
   "cell_type": "code",
   "execution_count": 4,
   "id": "a5c4ab11",
   "metadata": {},
   "outputs": [],
   "source": [
    "array = np.random.randint(0, 2 ** 32, N, dtype=np.uint32)\n",
    "with open(\"numbers\", 'wb') as f:         \n",
    "    f.write(array.data)"
   ]
  },
  {
   "cell_type": "code",
   "execution_count": 5,
   "id": "d2e3fda8",
   "metadata": {},
   "outputs": [],
   "source": [
    "def simple_calculation(array: np.array):\n",
    "    array_sum = 0\n",
    "    min_value, max_value = 2 ** 32 + 1, -1\n",
    "    for i in range(array.shape[0]):\n",
    "        array_sum += array[i]\n",
    "        if array[i] > max_value:\n",
    "            max_value = array[i]\n",
    "        if array[i] < min_value:\n",
    "            min_value = array[i]\n",
    "    return array_sum, min_value, max_value"
   ]
  },
  {
   "cell_type": "code",
   "execution_count": 6,
   "id": "ac8ea2c1",
   "metadata": {},
   "outputs": [
    {
     "name": "stdout",
     "output_type": "stream",
     "text": [
      "Wall time: 5min 4s\n"
     ]
    },
    {
     "data": {
      "text/plain": [
       "(1152918908967944801, 0, 4294967284)"
      ]
     },
     "execution_count": 6,
     "metadata": {},
     "output_type": "execute_result"
    }
   ],
   "source": [
    "%%time\n",
    "stored_array = np.fromfile(\"numbers\", dtype=np.uint32)\n",
    "simple_calculation(stored_array)"
   ]
  },
  {
   "cell_type": "code",
   "execution_count": 15,
   "id": "1913a01e",
   "metadata": {
    "scrolled": true
   },
   "outputs": [
    {
     "name": "stdout",
     "output_type": "stream",
     "text": [
      "Wall time: 2.75 s\n"
     ]
    },
    {
     "data": {
      "text/plain": [
       "(1152918908967944801, 0, 4294967284)"
      ]
     },
     "execution_count": 15,
     "metadata": {},
     "output_type": "execute_result"
    }
   ],
   "source": [
    "%%time\n",
    "stored_array.astype(np.int64).sum(), stored_array.min(), stored_array.max()"
   ]
  },
  {
   "cell_type": "code",
   "execution_count": 17,
   "id": "79e83693",
   "metadata": {},
   "outputs": [
    {
     "name": "stdout",
     "output_type": "stream",
     "text": [
      "(72049789882868446, 15, 4294967095)\n",
      "(72058533373420514, 138, 4294966988)\n",
      "(72067146033854981, 53, 4294967184)\n",
      "(72062965186296472, 14, 4294966889)\n",
      "(72060261058718320, 239, 4294966887)\n",
      "(72051714255488508, 9, 4294967169)\n",
      "(72068524803990611, 25, 4294967284)\n",
      "(72058617598655537, 244, 4294967223)\n",
      "(72053385254804228, 76, 4294967072)\n",
      "(72038848056256511, 12, 4294967004)\n",
      "(72061220215400541, 3, 4294967188)\n",
      "(72058517408414754, 47, 4294967275)\n",
      "(72056857990125930, 0, 4294967189)\n",
      "(72058434082907863, 167, 4294967246)\n",
      "(72053041806246027, 186, 4294967168)\n",
      "(72061051960495558, 40, 4294966927)\n",
      "(0, 0, 0)\n",
      "Wall time: 14min 12s\n"
     ]
    },
    {
     "data": {
      "text/plain": [
       "(1152918908967944801, 0, 4294967284)"
      ]
     },
     "execution_count": 17,
     "metadata": {},
     "output_type": "execute_result"
    }
   ],
   "source": [
    "%%time\n",
    "import numpy as np\n",
    "import time\n",
    "from concurrent.futures import ThreadPoolExecutor\n",
    "import mmap\n",
    "import threading\n",
    "from tqdm.notebook import tqdm\n",
    "\n",
    "N = 2 ** (1 + 10 + 10 + 10 + 3 - 5)\n",
    "\n",
    "array_sum = 0\n",
    "min_value, max_value = 2 ** 32 + 1, -1\n",
    "lock_array_sum, lock_min_value, lock_max_value = threading.Lock(), threading.Lock(), threading.Lock()\n",
    "\n",
    "def calculation_with_thread(filename, arr_length, offset, lock_array_sum, lock_min_value, lock_max_value):\n",
    "    lc_array_sum = 0\n",
    "    lc_min_value, lc_max_value = 2 ** 32 + 1, -1\n",
    "    array = np.memmap(filename, dtype=np.uint32, mode='r+', offset=offset, shape=arr_length, order='C')\n",
    "    for i in range(array.shape[0]):\n",
    "        lc_array_sum += array[i]\n",
    "        if array[i] > lc_max_value:\n",
    "            lc_max_value = array[i]\n",
    "        if array[i] < lc_min_value:\n",
    "            lc_min_value = array[i]\n",
    "        \n",
    "    global array_sum\n",
    "    global min_value\n",
    "    global max_value\n",
    "    with lock_array_sum:\n",
    "        array_sum += lc_array_sum\n",
    "    with lock_min_value:\n",
    "        if lc_min_value < min_value:\n",
    "            min_value = lc_min_value\n",
    "    with lock_max_value:\n",
    "        if lc_max_value > max_value:\n",
    "            max_value = lc_max_value\n",
    "    return lc_array_sum, lc_min_value, lc_max_value\n",
    "\n",
    "executor = ThreadPoolExecutor(max_workers=16)\n",
    "exec_len = N // (2 ** 4)\n",
    "exec_b_len = exec_len * 4\n",
    "futures = [executor.submit(calculation_with_thread,\n",
    "                           \"numbers\",\n",
    "                           exec_len,\n",
    "                           i * exec_b_len,\n",
    "                           lock_array_sum,\n",
    "                           lock_min_value,\n",
    "                           lock_max_value) for i in range(N // exec_len + 1)]\n",
    "\n",
    "for future in futures:\n",
    "    print(future.result())\n",
    "\n",
    "array_sum, min_value, max_value"
   ]
  },
  {
   "cell_type": "code",
   "execution_count": null,
   "id": "e4612f8b",
   "metadata": {},
   "outputs": [],
   "source": []
  }
 ],
 "metadata": {
  "kernelspec": {
   "display_name": "Python 3",
   "language": "python",
   "name": "python3"
  },
  "language_info": {
   "codemirror_mode": {
    "name": "ipython",
    "version": 3
   },
   "file_extension": ".py",
   "mimetype": "text/x-python",
   "name": "python",
   "nbconvert_exporter": "python",
   "pygments_lexer": "ipython3",
   "version": "3.8.5"
  }
 },
 "nbformat": 4,
 "nbformat_minor": 5
}
