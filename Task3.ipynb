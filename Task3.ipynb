{
 "cells": [
  {
   "cell_type": "markdown",
   "source": [
    "Нужно, используя `Spark`, `Ray datasets` или `Dask`\n",
    "- найти явку (%) по всем регионам, результат отсортировать по убыванию\n",
    "- выбрать  произвольного кандидата и найти тот избирательный участок, на котором он получил наибольший результат (учитывать участки на которых проголосовало больше 300 человек)\n",
    "- найти регион, где разница между ТИК с наибольшей явкой и наименьшей максимальна (учитывать %)\n",
    "- посчитать дисперсию по явке для каждого региона (по УИК)\n",
    "- для каждого кандидата посчитать таблицу: результат (%, округленный до целого) - количество УИК, на которых кандидат получил данный результат\n",
    "\n",
    "\n",
    "Результаты принимаются в виде `Jupyter Notebook`"
   ],
   "metadata": {
    "collapsed": false,
    "pycharm": {
     "name": "#%% md\n"
    }
   }
  },
  {
   "cell_type": "code",
   "execution_count": 1,
   "metadata": {
    "collapsed": true,
    "pycharm": {
     "name": "#%%\n"
    }
   },
   "outputs": [],
   "source": [
    "import pandas as pd\n",
    "import numpy as np\n",
    "import dask.dataframe as dd\n",
    "\n",
    "DATA_DIR = \"./materials/tasks/cik.csv\""
   ]
  },
  {
   "cell_type": "code",
   "execution_count": 2,
   "outputs": [
    {
     "data": {
      "text/plain": "                        regin         tik     uik  registered_voters  \\\n0  Республика Адыгея (Адыгея)  Адыгейская  УИК №1               2256   \n1  Республика Адыгея (Адыгея)  Адыгейская  УИК №2               2700   \n2  Республика Адыгея (Адыгея)  Адыгейская  УИК №3               2858   \n3  Республика Адыгея (Адыгея)  Адыгейская  УИК №4               2066   \n4  Республика Адыгея (Адыгея)  Адыгейская  УИК №5                700   \n\n   total_ballots  early_voters  tik_voters  home_voters  empty_ballots  \\\n0           2181             0        2107           62             12   \n1           2633             0        2575           41             17   \n2           2752             0        2664           75             13   \n3           2034             0        1857          142             35   \n4            714             0         676           11             27   \n\n   home_ballots  ...  missing_ballots  extra_ballots  baburin  grudinin  \\\n0            62  ...                0              0        0       137   \n1            41  ...                0              0       15        86   \n2            75  ...                0              0        1        62   \n3           142  ...                0              0        5       288   \n4            11  ...                0              0        2        44   \n\n   zhirinovsky  putin  sobchak  suraykin  titov  yavlinsky  \n0           32   1977       14         0      1          5  \n1           65   2389       13         5      6         15  \n2           13   2645        6         3      4          0  \n3           12   1642       21         6      2          2  \n4            6    624        6         0      0          2  \n\n[5 rows x 23 columns]",
      "text/html": "<div>\n<style scoped>\n    .dataframe tbody tr th:only-of-type {\n        vertical-align: middle;\n    }\n\n    .dataframe tbody tr th {\n        vertical-align: top;\n    }\n\n    .dataframe thead th {\n        text-align: right;\n    }\n</style>\n<table border=\"1\" class=\"dataframe\">\n  <thead>\n    <tr style=\"text-align: right;\">\n      <th></th>\n      <th>regin</th>\n      <th>tik</th>\n      <th>uik</th>\n      <th>registered_voters</th>\n      <th>total_ballots</th>\n      <th>early_voters</th>\n      <th>tik_voters</th>\n      <th>home_voters</th>\n      <th>empty_ballots</th>\n      <th>home_ballots</th>\n      <th>...</th>\n      <th>missing_ballots</th>\n      <th>extra_ballots</th>\n      <th>baburin</th>\n      <th>grudinin</th>\n      <th>zhirinovsky</th>\n      <th>putin</th>\n      <th>sobchak</th>\n      <th>suraykin</th>\n      <th>titov</th>\n      <th>yavlinsky</th>\n    </tr>\n  </thead>\n  <tbody>\n    <tr>\n      <th>0</th>\n      <td>Республика Адыгея (Адыгея)</td>\n      <td>Адыгейская</td>\n      <td>УИК №1</td>\n      <td>2256</td>\n      <td>2181</td>\n      <td>0</td>\n      <td>2107</td>\n      <td>62</td>\n      <td>12</td>\n      <td>62</td>\n      <td>...</td>\n      <td>0</td>\n      <td>0</td>\n      <td>0</td>\n      <td>137</td>\n      <td>32</td>\n      <td>1977</td>\n      <td>14</td>\n      <td>0</td>\n      <td>1</td>\n      <td>5</td>\n    </tr>\n    <tr>\n      <th>1</th>\n      <td>Республика Адыгея (Адыгея)</td>\n      <td>Адыгейская</td>\n      <td>УИК №2</td>\n      <td>2700</td>\n      <td>2633</td>\n      <td>0</td>\n      <td>2575</td>\n      <td>41</td>\n      <td>17</td>\n      <td>41</td>\n      <td>...</td>\n      <td>0</td>\n      <td>0</td>\n      <td>15</td>\n      <td>86</td>\n      <td>65</td>\n      <td>2389</td>\n      <td>13</td>\n      <td>5</td>\n      <td>6</td>\n      <td>15</td>\n    </tr>\n    <tr>\n      <th>2</th>\n      <td>Республика Адыгея (Адыгея)</td>\n      <td>Адыгейская</td>\n      <td>УИК №3</td>\n      <td>2858</td>\n      <td>2752</td>\n      <td>0</td>\n      <td>2664</td>\n      <td>75</td>\n      <td>13</td>\n      <td>75</td>\n      <td>...</td>\n      <td>0</td>\n      <td>0</td>\n      <td>1</td>\n      <td>62</td>\n      <td>13</td>\n      <td>2645</td>\n      <td>6</td>\n      <td>3</td>\n      <td>4</td>\n      <td>0</td>\n    </tr>\n    <tr>\n      <th>3</th>\n      <td>Республика Адыгея (Адыгея)</td>\n      <td>Адыгейская</td>\n      <td>УИК №4</td>\n      <td>2066</td>\n      <td>2034</td>\n      <td>0</td>\n      <td>1857</td>\n      <td>142</td>\n      <td>35</td>\n      <td>142</td>\n      <td>...</td>\n      <td>0</td>\n      <td>0</td>\n      <td>5</td>\n      <td>288</td>\n      <td>12</td>\n      <td>1642</td>\n      <td>21</td>\n      <td>6</td>\n      <td>2</td>\n      <td>2</td>\n    </tr>\n    <tr>\n      <th>4</th>\n      <td>Республика Адыгея (Адыгея)</td>\n      <td>Адыгейская</td>\n      <td>УИК №5</td>\n      <td>700</td>\n      <td>714</td>\n      <td>0</td>\n      <td>676</td>\n      <td>11</td>\n      <td>27</td>\n      <td>11</td>\n      <td>...</td>\n      <td>0</td>\n      <td>0</td>\n      <td>2</td>\n      <td>44</td>\n      <td>6</td>\n      <td>624</td>\n      <td>6</td>\n      <td>0</td>\n      <td>0</td>\n      <td>2</td>\n    </tr>\n  </tbody>\n</table>\n<p>5 rows × 23 columns</p>\n</div>"
     },
     "execution_count": 2,
     "metadata": {},
     "output_type": "execute_result"
    }
   ],
   "source": [
    "data = dd.read_csv(DATA_DIR)\n",
    "data.head()"
   ],
   "metadata": {
    "collapsed": false,
    "pycharm": {
     "name": "#%%\n"
    }
   }
  },
  {
   "cell_type": "code",
   "execution_count": 3,
   "outputs": [],
   "source": [
    "def get_attendance(df):\n",
    "    return (df[\"normal_ballots\"] + df[\"bad_ballots\"]) / df[\"registered_voters\"]"
   ],
   "metadata": {
    "collapsed": false,
    "pycharm": {
     "name": "#%%\n"
    }
   }
  },
  {
   "cell_type": "code",
   "execution_count": 4,
   "outputs": [
    {
     "data": {
      "text/plain": "regin\nТерритория за пределами РФ             0.980182\nРеспублика Тыва                        0.936254\nЯмало-Ненецкий автономный округ        0.918721\nКабардино-Балкарская Республика        0.916979\nРеспублика Северная Осетия - Алания    0.899370\n                                         ...   \nЗабайкальский край                     0.579752\nТверская область                       0.575527\nНовгородская область                   0.572796\nРеспублика Карелия                     0.571452\nИркутская область                      0.556853\nName: attend, Length: 80, dtype: float64"
     },
     "execution_count": 4,
     "metadata": {},
     "output_type": "execute_result"
    }
   ],
   "source": [
    "# найти явку (%) по всем регионам, результат отсортировать по убыванию\n",
    "\n",
    "data_attend = data[[\"regin\", \"registered_voters\", \"normal_ballots\", \"bad_ballots\"]].groupby(\"regin\").sum()\n",
    "data_attend[\"attend\"] = get_attendance(data_attend)\n",
    "data_attend.compute().sort_values(\"attend\", ascending=False)[\"attend\"]"
   ],
   "metadata": {
    "collapsed": false,
    "pycharm": {
     "name": "#%%\n"
    }
   }
  },
  {
   "cell_type": "code",
   "execution_count": 5,
   "outputs": [
    {
     "data": {
      "text/plain": "                    regin        tik        uik  grudinin\n52319  Московская область  Ленинская  УИК №1306      1141",
      "text/html": "<div>\n<style scoped>\n    .dataframe tbody tr th:only-of-type {\n        vertical-align: middle;\n    }\n\n    .dataframe tbody tr th {\n        vertical-align: top;\n    }\n\n    .dataframe thead th {\n        text-align: right;\n    }\n</style>\n<table border=\"1\" class=\"dataframe\">\n  <thead>\n    <tr style=\"text-align: right;\">\n      <th></th>\n      <th>regin</th>\n      <th>tik</th>\n      <th>uik</th>\n      <th>grudinin</th>\n    </tr>\n  </thead>\n  <tbody>\n    <tr>\n      <th>52319</th>\n      <td>Московская область</td>\n      <td>Ленинская</td>\n      <td>УИК №1306</td>\n      <td>1141</td>\n    </tr>\n  </tbody>\n</table>\n</div>"
     },
     "execution_count": 5,
     "metadata": {},
     "output_type": "execute_result"
    }
   ],
   "source": [
    "# выбрать произвольного кандидата и найти тот избирательный участок,\n",
    "# на котором он получил наибольший результат (учитывать участки, на которых проголосовало больше 300 человек)\n",
    "\n",
    "candidate = \"grudinin\"\n",
    "data[(data[\"normal_ballots\"] > 300) & (data[candidate] == data[candidate].max())][[\"regin\", \"tik\", \"uik\", candidate]].compute()"
   ],
   "metadata": {
    "collapsed": false,
    "pycharm": {
     "name": "#%%\n"
    }
   }
  },
  {
   "cell_type": "code",
   "execution_count": 6,
   "outputs": [
    {
     "data": {
      "text/plain": "                                                    registered_voters  \\\nregin                 tik                                               \nАрхангельская область Верхнетоемская                            14160   \n                      Архангельск, Исакогорская                 26646   \n                      Онежская                                  25929   \n                      Лешуконская                                6957   \n                      Архангельск, Соломбальская                62929   \n                      Плесецкая                                 35107   \n                      Виноградовская                            13877   \n                      Пинежская                                 21723   \n                      Шенкурская                                12263   \n                      Устьянская                                24605   \n                      Холмогорская                              20056   \n                      Няндомская                                23124   \n                      Мезенская                                  8817   \n                      Архангельск, Южная                        61909   \n                      Вельская                                  43024   \n                      Коношская                                 18910   \n                      Котласская                                15619   \n                      Красноборская                             11317   \n                      Каргопольская                             14936   \n                      Архангельск, Ломоносовская                53356   \n                      Приморская                                24146   \n                      Архангельск, Октябрьская                  66689   \n                      Ленская                                   10615   \n                      Новодвинская городская                    30615   \n                      Коряжемская городская                     30019   \n                      Северодвинская городская № 2              73632   \n                      Котласская городская                      57388   \n                      Вилегодская                                9187   \n                      Северодвинская городская № 1              75330   \n                      Мирнинская городская                      19376   \n                      Новая Земля                                1957   \n\n                                                    normal_ballots  \\\nregin                 tik                                            \nАрхангельская область Верхнетоемская                          7037   \n                      Архангельск, Исакогорская              13249   \n                      Онежская                               13263   \n                      Лешуконская                             3588   \n                      Архангельск, Соломбальская             33060   \n                      Плесецкая                              18496   \n                      Виноградовская                          7411   \n                      Пинежская                              11673   \n                      Шенкурская                              6642   \n                      Устьянская                             13560   \n                      Холмогорская                           11082   \n                      Няндомская                             12830   \n                      Мезенская                               4982   \n                      Архангельск, Южная                     34925   \n                      Вельская                               24370   \n                      Коношская                              10812   \n                      Котласская                              9010   \n                      Красноборская                           6529   \n                      Каргопольская                           8709   \n                      Архангельск, Ломоносовская             31658   \n                      Приморская                             14552   \n                      Архангельск, Октябрьская               40323   \n                      Ленская                                 6411   \n                      Новодвинская городская                 18670   \n                      Коряжемская городская                  18298   \n                      Северодвинская городская № 2           46585   \n                      Котласская городская                   36593   \n                      Вилегодская                             5882   \n                      Северодвинская городская № 1           49299   \n                      Мирнинская городская                   14640   \n                      Новая Земля                             1943   \n\n                                                    bad_ballots    attend  \nregin                 tik                                                  \nАрхангельская область Верхнетоемская                         34  0.499364  \n                      Архангельск, Исакогорская             116  0.501576  \n                      Онежская                              119  0.516102  \n                      Лешуконская                            10  0.517177  \n                      Архангельск, Соломбальская            310  0.530280  \n                      Плесецкая                             185  0.532116  \n                      Виноградовская                         46  0.537364  \n                      Пинежская                              71  0.540625  \n                      Шенкурская                             41  0.544973  \n                      Устьянская                             81  0.554400  \n                      Холмогорская                          109  0.557988  \n                      Няндомская                            108  0.559505  \n                      Мезенская                              41  0.569695  \n                      Архангельск, Южная                    356  0.569885  \n                      Вельская                              216  0.571448  \n                      Коношская                              86  0.576309  \n                      Котласская                             76  0.581727  \n                      Красноборская                          57  0.581956  \n                      Каргопольская                          69  0.587708  \n                      Архангельск, Ломоносовская            277  0.598527  \n                      Приморская                            119  0.607595  \n                      Архангельск, Октябрьская              378  0.610311  \n                      Ленская                                74  0.610928  \n                      Новодвинская городская                185  0.615875  \n                      Коряжемская городская                 252  0.617942  \n                      Северодвинская городская № 2          416  0.638323  \n                      Котласская городская                  373  0.644142  \n                      Вилегодская                            57  0.646457  \n                      Северодвинская городская № 1          439  0.660268  \n                      Мирнинская городская                  169  0.764296  \n                      Новая Земля                            10  0.997956  ",
      "text/html": "<div>\n<style scoped>\n    .dataframe tbody tr th:only-of-type {\n        vertical-align: middle;\n    }\n\n    .dataframe tbody tr th {\n        vertical-align: top;\n    }\n\n    .dataframe thead th {\n        text-align: right;\n    }\n</style>\n<table border=\"1\" class=\"dataframe\">\n  <thead>\n    <tr style=\"text-align: right;\">\n      <th></th>\n      <th></th>\n      <th>registered_voters</th>\n      <th>normal_ballots</th>\n      <th>bad_ballots</th>\n      <th>attend</th>\n    </tr>\n    <tr>\n      <th>regin</th>\n      <th>tik</th>\n      <th></th>\n      <th></th>\n      <th></th>\n      <th></th>\n    </tr>\n  </thead>\n  <tbody>\n    <tr>\n      <th rowspan=\"31\" valign=\"top\">Архангельская область</th>\n      <th>Верхнетоемская</th>\n      <td>14160</td>\n      <td>7037</td>\n      <td>34</td>\n      <td>0.499364</td>\n    </tr>\n    <tr>\n      <th>Архангельск, Исакогорская</th>\n      <td>26646</td>\n      <td>13249</td>\n      <td>116</td>\n      <td>0.501576</td>\n    </tr>\n    <tr>\n      <th>Онежская</th>\n      <td>25929</td>\n      <td>13263</td>\n      <td>119</td>\n      <td>0.516102</td>\n    </tr>\n    <tr>\n      <th>Лешуконская</th>\n      <td>6957</td>\n      <td>3588</td>\n      <td>10</td>\n      <td>0.517177</td>\n    </tr>\n    <tr>\n      <th>Архангельск, Соломбальская</th>\n      <td>62929</td>\n      <td>33060</td>\n      <td>310</td>\n      <td>0.530280</td>\n    </tr>\n    <tr>\n      <th>Плесецкая</th>\n      <td>35107</td>\n      <td>18496</td>\n      <td>185</td>\n      <td>0.532116</td>\n    </tr>\n    <tr>\n      <th>Виноградовская</th>\n      <td>13877</td>\n      <td>7411</td>\n      <td>46</td>\n      <td>0.537364</td>\n    </tr>\n    <tr>\n      <th>Пинежская</th>\n      <td>21723</td>\n      <td>11673</td>\n      <td>71</td>\n      <td>0.540625</td>\n    </tr>\n    <tr>\n      <th>Шенкурская</th>\n      <td>12263</td>\n      <td>6642</td>\n      <td>41</td>\n      <td>0.544973</td>\n    </tr>\n    <tr>\n      <th>Устьянская</th>\n      <td>24605</td>\n      <td>13560</td>\n      <td>81</td>\n      <td>0.554400</td>\n    </tr>\n    <tr>\n      <th>Холмогорская</th>\n      <td>20056</td>\n      <td>11082</td>\n      <td>109</td>\n      <td>0.557988</td>\n    </tr>\n    <tr>\n      <th>Няндомская</th>\n      <td>23124</td>\n      <td>12830</td>\n      <td>108</td>\n      <td>0.559505</td>\n    </tr>\n    <tr>\n      <th>Мезенская</th>\n      <td>8817</td>\n      <td>4982</td>\n      <td>41</td>\n      <td>0.569695</td>\n    </tr>\n    <tr>\n      <th>Архангельск, Южная</th>\n      <td>61909</td>\n      <td>34925</td>\n      <td>356</td>\n      <td>0.569885</td>\n    </tr>\n    <tr>\n      <th>Вельская</th>\n      <td>43024</td>\n      <td>24370</td>\n      <td>216</td>\n      <td>0.571448</td>\n    </tr>\n    <tr>\n      <th>Коношская</th>\n      <td>18910</td>\n      <td>10812</td>\n      <td>86</td>\n      <td>0.576309</td>\n    </tr>\n    <tr>\n      <th>Котласская</th>\n      <td>15619</td>\n      <td>9010</td>\n      <td>76</td>\n      <td>0.581727</td>\n    </tr>\n    <tr>\n      <th>Красноборская</th>\n      <td>11317</td>\n      <td>6529</td>\n      <td>57</td>\n      <td>0.581956</td>\n    </tr>\n    <tr>\n      <th>Каргопольская</th>\n      <td>14936</td>\n      <td>8709</td>\n      <td>69</td>\n      <td>0.587708</td>\n    </tr>\n    <tr>\n      <th>Архангельск, Ломоносовская</th>\n      <td>53356</td>\n      <td>31658</td>\n      <td>277</td>\n      <td>0.598527</td>\n    </tr>\n    <tr>\n      <th>Приморская</th>\n      <td>24146</td>\n      <td>14552</td>\n      <td>119</td>\n      <td>0.607595</td>\n    </tr>\n    <tr>\n      <th>Архангельск, Октябрьская</th>\n      <td>66689</td>\n      <td>40323</td>\n      <td>378</td>\n      <td>0.610311</td>\n    </tr>\n    <tr>\n      <th>Ленская</th>\n      <td>10615</td>\n      <td>6411</td>\n      <td>74</td>\n      <td>0.610928</td>\n    </tr>\n    <tr>\n      <th>Новодвинская городская</th>\n      <td>30615</td>\n      <td>18670</td>\n      <td>185</td>\n      <td>0.615875</td>\n    </tr>\n    <tr>\n      <th>Коряжемская городская</th>\n      <td>30019</td>\n      <td>18298</td>\n      <td>252</td>\n      <td>0.617942</td>\n    </tr>\n    <tr>\n      <th>Северодвинская городская № 2</th>\n      <td>73632</td>\n      <td>46585</td>\n      <td>416</td>\n      <td>0.638323</td>\n    </tr>\n    <tr>\n      <th>Котласская городская</th>\n      <td>57388</td>\n      <td>36593</td>\n      <td>373</td>\n      <td>0.644142</td>\n    </tr>\n    <tr>\n      <th>Вилегодская</th>\n      <td>9187</td>\n      <td>5882</td>\n      <td>57</td>\n      <td>0.646457</td>\n    </tr>\n    <tr>\n      <th>Северодвинская городская № 1</th>\n      <td>75330</td>\n      <td>49299</td>\n      <td>439</td>\n      <td>0.660268</td>\n    </tr>\n    <tr>\n      <th>Мирнинская городская</th>\n      <td>19376</td>\n      <td>14640</td>\n      <td>169</td>\n      <td>0.764296</td>\n    </tr>\n    <tr>\n      <th>Новая Земля</th>\n      <td>1957</td>\n      <td>1943</td>\n      <td>10</td>\n      <td>0.997956</td>\n    </tr>\n  </tbody>\n</table>\n</div>"
     },
     "execution_count": 6,
     "metadata": {},
     "output_type": "execute_result"
    }
   ],
   "source": [
    "# найти регион, где разница между ТИК с наибольшей явкой и наименьшей максимальна (учитывать %)\n",
    "\n",
    "\n",
    "data_tik_attend = data[[\"regin\", \"tik\", \"registered_voters\", \"normal_ballots\", \"bad_ballots\"]].groupby([\"regin\", \"tik\"]).sum()\n",
    "data_tik_attend[\"attend\"] = get_attendance(data_tik_attend)\n",
    "region_min_attend, region_max_attend = data_tik_attend.groupby(\"regin\")[\"attend\"].min(), data_tik_attend.groupby(\"regin\")[\"attend\"].max()\n",
    "max_range_region = (region_max_attend - region_min_attend).idxmax()\n",
    "data_tik_attend.loc[max_range_region].sort_values(\"attend\").compute()"
   ],
   "metadata": {
    "collapsed": false,
    "pycharm": {
     "name": "#%%\n"
    }
   }
  },
  {
   "cell_type": "code",
   "execution_count": 7,
   "outputs": [
    {
     "data": {
      "text/plain": "regin\nАлтайский край                     0.009840\nАмурская область                   0.013917\nАрхангельская область              0.019866\nАстраханская область               0.012645\nБелгородская область               0.018929\n                                     ...   \nЧувашская Республика - Чувашия     0.017008\nЧукотский автономный округ         0.010224\nЯмало-Ненецкий автономный округ    0.008625\nгород Москва                       0.008085\nгород Санкт-Петербург              0.013723\nName: attend, Length: 80, dtype: float64"
     },
     "execution_count": 7,
     "metadata": {},
     "output_type": "execute_result"
    }
   ],
   "source": [
    "# посчитать дисперсию по явке для каждого региона (по УИК)\n",
    "\n",
    "data[\"attend\"] = get_attendance(data)\n",
    "data.groupby(\"regin\")[\"attend\"].var().compute()"
   ],
   "metadata": {
    "collapsed": false,
    "pycharm": {
     "name": "#%%\n"
    }
   }
  },
  {
   "cell_type": "code",
   "execution_count": 8,
   "outputs": [
    {
     "data": {
      "text/plain": "       baburin  grudinin  zhirinovsky  putin  sobchak  suraykin    titov  \\\n0.0    41958.0    1079.0       3528.0    1.0  26684.0   40148.0  46741.0   \n1.0    46339.0    1680.0       3981.0    NaN  34280.0   47310.0  38403.0   \n2.0     3736.0    2338.0       4031.0    NaN  17688.0    4018.0   6571.0   \n3.0      510.0    2828.0       6156.0    NaN   7434.0     765.0    866.0   \n4.0      170.0    3317.0       9700.0    1.0   3438.0     245.0    175.0   \n...        ...       ...          ...    ...      ...       ...      ...   \n96.0       NaN       NaN          1.0  829.0      NaN       NaN      NaN   \n97.0       NaN       NaN          NaN  729.0      NaN       NaN      NaN   \n98.0       NaN       NaN          NaN  634.0      NaN       NaN      NaN   \n99.0       NaN       NaN          NaN  349.0      NaN       NaN      NaN   \n100.0      NaN       NaN          NaN  271.0      NaN       NaN      NaN   \n\n       yavlinsky  \n0.0      48737.0  \n1.0      29054.0  \n2.0       8734.0  \n3.0       3560.0  \n4.0       1560.0  \n...          ...  \n96.0         NaN  \n97.0         NaN  \n98.0         NaN  \n99.0         NaN  \n100.0        NaN  \n\n[101 rows x 8 columns]",
      "text/html": "<div>\n<style scoped>\n    .dataframe tbody tr th:only-of-type {\n        vertical-align: middle;\n    }\n\n    .dataframe tbody tr th {\n        vertical-align: top;\n    }\n\n    .dataframe thead th {\n        text-align: right;\n    }\n</style>\n<table border=\"1\" class=\"dataframe\">\n  <thead>\n    <tr style=\"text-align: right;\">\n      <th></th>\n      <th>baburin</th>\n      <th>grudinin</th>\n      <th>zhirinovsky</th>\n      <th>putin</th>\n      <th>sobchak</th>\n      <th>suraykin</th>\n      <th>titov</th>\n      <th>yavlinsky</th>\n    </tr>\n  </thead>\n  <tbody>\n    <tr>\n      <th>0.0</th>\n      <td>41958.0</td>\n      <td>1079.0</td>\n      <td>3528.0</td>\n      <td>1.0</td>\n      <td>26684.0</td>\n      <td>40148.0</td>\n      <td>46741.0</td>\n      <td>48737.0</td>\n    </tr>\n    <tr>\n      <th>1.0</th>\n      <td>46339.0</td>\n      <td>1680.0</td>\n      <td>3981.0</td>\n      <td>NaN</td>\n      <td>34280.0</td>\n      <td>47310.0</td>\n      <td>38403.0</td>\n      <td>29054.0</td>\n    </tr>\n    <tr>\n      <th>2.0</th>\n      <td>3736.0</td>\n      <td>2338.0</td>\n      <td>4031.0</td>\n      <td>NaN</td>\n      <td>17688.0</td>\n      <td>4018.0</td>\n      <td>6571.0</td>\n      <td>8734.0</td>\n    </tr>\n    <tr>\n      <th>3.0</th>\n      <td>510.0</td>\n      <td>2828.0</td>\n      <td>6156.0</td>\n      <td>NaN</td>\n      <td>7434.0</td>\n      <td>765.0</td>\n      <td>866.0</td>\n      <td>3560.0</td>\n    </tr>\n    <tr>\n      <th>4.0</th>\n      <td>170.0</td>\n      <td>3317.0</td>\n      <td>9700.0</td>\n      <td>1.0</td>\n      <td>3438.0</td>\n      <td>245.0</td>\n      <td>175.0</td>\n      <td>1560.0</td>\n    </tr>\n    <tr>\n      <th>...</th>\n      <td>...</td>\n      <td>...</td>\n      <td>...</td>\n      <td>...</td>\n      <td>...</td>\n      <td>...</td>\n      <td>...</td>\n      <td>...</td>\n    </tr>\n    <tr>\n      <th>96.0</th>\n      <td>NaN</td>\n      <td>NaN</td>\n      <td>1.0</td>\n      <td>829.0</td>\n      <td>NaN</td>\n      <td>NaN</td>\n      <td>NaN</td>\n      <td>NaN</td>\n    </tr>\n    <tr>\n      <th>97.0</th>\n      <td>NaN</td>\n      <td>NaN</td>\n      <td>NaN</td>\n      <td>729.0</td>\n      <td>NaN</td>\n      <td>NaN</td>\n      <td>NaN</td>\n      <td>NaN</td>\n    </tr>\n    <tr>\n      <th>98.0</th>\n      <td>NaN</td>\n      <td>NaN</td>\n      <td>NaN</td>\n      <td>634.0</td>\n      <td>NaN</td>\n      <td>NaN</td>\n      <td>NaN</td>\n      <td>NaN</td>\n    </tr>\n    <tr>\n      <th>99.0</th>\n      <td>NaN</td>\n      <td>NaN</td>\n      <td>NaN</td>\n      <td>349.0</td>\n      <td>NaN</td>\n      <td>NaN</td>\n      <td>NaN</td>\n      <td>NaN</td>\n    </tr>\n    <tr>\n      <th>100.0</th>\n      <td>NaN</td>\n      <td>NaN</td>\n      <td>NaN</td>\n      <td>271.0</td>\n      <td>NaN</td>\n      <td>NaN</td>\n      <td>NaN</td>\n      <td>NaN</td>\n    </tr>\n  </tbody>\n</table>\n<p>101 rows × 8 columns</p>\n</div>"
     },
     "execution_count": 8,
     "metadata": {},
     "output_type": "execute_result"
    }
   ],
   "source": [
    "# для каждого кандидата посчитать таблицу: результат (%, округленный до целого) - количество УИК, на которых кандидат получил данный результат\n",
    "\n",
    "candidates = [\n",
    "    \"baburin\",\n",
    "    \"grudinin\",\n",
    "    \"zhirinovsky\",\n",
    "    \"putin\",\n",
    "    \"sobchak\",\n",
    "    \"suraykin\",\n",
    "    \"titov\",\n",
    "    \"yavlinsky\",\n",
    "]\n",
    "\n",
    "cand_results = round(data[candidates].divide(data[\"normal_ballots\"], axis=0).mul(100).compute())\n",
    "cand_results.apply(pd.Series.value_counts)"
   ],
   "metadata": {
    "collapsed": false,
    "pycharm": {
     "name": "#%%\n"
    }
   }
  }
 ],
 "metadata": {
  "kernelspec": {
   "display_name": "Python 3",
   "language": "python",
   "name": "python3"
  },
  "language_info": {
   "codemirror_mode": {
    "name": "ipython",
    "version": 2
   },
   "file_extension": ".py",
   "mimetype": "text/x-python",
   "name": "python",
   "nbconvert_exporter": "python",
   "pygments_lexer": "ipython2",
   "version": "2.7.6"
  }
 },
 "nbformat": 4,
 "nbformat_minor": 0
}